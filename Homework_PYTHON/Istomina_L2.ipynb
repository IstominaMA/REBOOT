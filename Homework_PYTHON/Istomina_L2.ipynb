{
 "cells": [
  {
   "cell_type": "code",
   "execution_count": 1,
   "metadata": {},
   "outputs": [],
   "source": [
    "import requests\n",
    "from tqdm import tqdm\n",
    "import pandas as pd\n",
    "import datetime\n",
    "%matplotlib inline\n",
    "import matplotlib.pyplot as plt"
   ]
  },
  {
   "cell_type": "code",
   "execution_count": 2,
   "metadata": {},
   "outputs": [],
   "source": [
    "# параметры запроса\n",
    "# Сбербанк\n",
    "sber = '3529' \n",
    "# страница\n",
    "page = 1 \n",
    "# кол-во записей на странице\n",
    "num_per_page = 100\n",
    "# Москва\n",
    "area_id = 1\n",
    "# ссылка\n",
    "url = f'https://api.hh.ru/vacancies?employer_id={sber}&page={page}&per_page={num_per_page}&area={area_id}'"
   ]
  },
  {
   "cell_type": "code",
   "execution_count": 3,
   "metadata": {},
   "outputs": [],
   "source": [
    "# извлекаем данные по ссылке\n",
    "res = requests.get(url)"
   ]
  },
  {
   "cell_type": "code",
   "execution_count": 4,
   "metadata": {},
   "outputs": [],
   "source": [
    "# из джcона в словать данные о запросе\n",
    "vacancies = res.json()"
   ]
  },
  {
   "cell_type": "code",
   "execution_count": 5,
   "metadata": {},
   "outputs": [
    {
     "data": {
      "text/plain": [
       "dict_keys(['items', 'found', 'pages', 'per_page', 'page', 'clusters', 'arguments', 'alternate_url'])"
      ]
     },
     "execution_count": 5,
     "metadata": {},
     "output_type": "execute_result"
    }
   ],
   "source": [
    "# ключи словаря\n",
    "vacancies.keys()"
   ]
  },
  {
   "cell_type": "code",
   "execution_count": 6,
   "metadata": {},
   "outputs": [],
   "source": [
    "# извлекаем информацию о кол-ве страниц\n",
    "num_pages = vacancies.get('pages')\n",
    "# извлекаем id вакансий из описания items\n",
    "vacancy_ids = [el.get('id') for el in vacancies.get('items')]"
   ]
  },
  {
   "cell_type": "code",
   "execution_count": 7,
   "metadata": {},
   "outputs": [
    {
     "name": "stderr",
     "output_type": "stream",
     "text": [
      "100%|██████████████████████████████████████████████████████████████████████████████████| 20/20 [00:08<00:00,  2.25it/s]\n"
     ]
    }
   ],
   "source": [
    "# извлекаем все id вакансий из описания items со всех страниц\n",
    "all_vacancy_ids = []\n",
    "for i in tqdm(range(vacancies.get('pages'))): # range - диапазон объекта\n",
    "    url = f'https://api.hh.ru/vacancies?employer_id={sber}&page={i}&per_page={num_per_page}&area={area_id}'\n",
    "    res = requests.get(url)\n",
    "    vacancies = res.json()\n",
    "    vacancy_ids = [el.get('id') for el in vacancies.get('items')]\n",
    "    all_vacancy_ids.extend(vacancy_ids) # exten - добавляет в список элементы итерации"
   ]
  },
  {
   "cell_type": "code",
   "execution_count": 8,
   "metadata": {},
   "outputs": [
    {
     "data": {
      "text/plain": [
       "2000"
      ]
     },
     "execution_count": 8,
     "metadata": {},
     "output_type": "execute_result"
    }
   ],
   "source": [
    "# количество всех id вакансий\n",
    "len(all_vacancy_ids)"
   ]
  },
  {
   "cell_type": "code",
   "execution_count": 11,
   "metadata": {},
   "outputs": [
    {
     "data": {
      "text/plain": [
       "{'id': '43326020',\n",
       " 'premium': False,\n",
       " 'billing_type': {'id': 'standard', 'name': 'Стандарт'},\n",
       " 'relations': [],\n",
       " 'name': 'Специалист по экономической безопасности',\n",
       " 'insider_interview': None,\n",
       " 'response_letter_required': False,\n",
       " 'area': {'id': '1', 'name': 'Москва', 'url': 'https://api.hh.ru/areas/1'},\n",
       " 'salary': None,\n",
       " 'type': {'id': 'open', 'name': 'Открытая'},\n",
       " 'address': None,\n",
       " 'allow_messages': True,\n",
       " 'site': {'id': 'hh', 'name': 'hh.ru'},\n",
       " 'experience': {'id': 'between1And3', 'name': 'От 1 года до 3 лет'},\n",
       " 'schedule': {'id': 'fullDay', 'name': 'Полный день'},\n",
       " 'employment': {'id': 'full', 'name': 'Полная занятость'},\n",
       " 'department': {'id': '3529-3529-prof', 'name': 'Сбер для экспертов'},\n",
       " 'contacts': None,\n",
       " 'description': '<p><strong>Обязанности:</strong></p> <p> </p> <ul> <li>Поиск и анализ информации в отношении клиентов/контрагентов Банка для оценки уровня кредитных рисков, рисков деловой репутации, иных рисков сотрудничества с контрагентами, в т.ч. в рамках закупочных процедур, реализации строительных программ, благотворительной деятельности и пр.;</li> <li>Мониторинг показателей отрасли и прогноз возможных рисковых событий;</li> <li>Подготовка заявительских материалов в правоохранительные органы по фактам/попыткам нанесения ущерба Банку;</li> <li>Исполнение запросов, поступающих от правоохранительных органов;</li> <li>Подготовка экспертного мнения при проведении служебных расследований;</li> <li>Подготовка предложений по оптимизации и совершенствованию бизнес-процессов</li> <li>Информационная поддержка бизнеса;</li> <li>Экспертная оценка жалоб и заявлений клиентов Банка;</li> <li>Подготовка предложений по разработкам/доработкам АБС Банка и ПСИ;</li> </ul> <p> </p> <p><strong>Требования:</strong></p> <p> </p> <ul> <li>Высшее образование;</li> <li>Опыт работы в сфере кредитование/андеррайтинг по направлению «Корпоративные клиенты»;</li> <li>Опыт кросс-блокового взаимодействия в Банке (согласование ВНД, процессов и т.п.);</li> <li>Знание основ кредитования различных продуктовых групп Банка в корпоративном кредитовании и понимание принципов структурирования сделок;</li> <li>Знание основ бухгалтерского учета, умение анализировать показатели финансово-хозяйственной деятельности клиентов;</li> <li>Понимание правовых основ гражданского и корпоративного права, процессуальных процедур банкротства, уголовного преследования, споров в арбитраже и судах общей юрисдикции;</li> <li>Опыт работы с формализованными (банковскими и сторонними АС) и неформализованными источниками данных;</li> <li>Умение находить связи между компаниями и/или физическими лицами;</li> <li>Опыт по розыску активов, опыту работы с forensic-моделями – приветствуется;</li> <li>Умение анализировать отчеты профильных служб (строительных, юридических экспертиз, экспертизы рисков) – приветствуется;</li> <li>Знание иностранного языка на уровне intermediate – приветствуется;</li> </ul> <p> </p> <p><strong>Условия:</strong></p> <p> </p> <ul> <li>Работа в крупнейшем банке России;</li> <li>Трудоустройство согласно ТК РФ;</li> <li>Регулярное корпоративное обучение;</li> <li>ДМС, страхование от несчастных случаев и тяжелых заболеваний;</li> <li>Материальная помощь и социальная поддержка, корпоративная пенсионная программа;</li> <li>Льготные условия кредитования;</li> <li>Яркая и насыщенная корпоративная жизнь.</li> </ul> <p> </p> <ul> </ul>',\n",
       " 'branded_description': None,\n",
       " 'vacancy_constructor_template': None,\n",
       " 'key_skills': [],\n",
       " 'accept_handicapped': False,\n",
       " 'accept_kids': False,\n",
       " 'archived': True,\n",
       " 'response_url': None,\n",
       " 'specializations': [{'id': '19.28',\n",
       "   'name': 'Андеррайтер',\n",
       "   'profarea_id': '19',\n",
       "   'profarea_name': 'Страхование'},\n",
       "  {'id': '5.124',\n",
       "   'name': 'Риски: кредитные',\n",
       "   'profarea_id': '5',\n",
       "   'profarea_name': 'Банки, инвестиции, лизинг'},\n",
       "  {'id': '5.257',\n",
       "   'name': 'Розничный бизнес',\n",
       "   'profarea_id': '5',\n",
       "   'profarea_name': 'Банки, инвестиции, лизинг'},\n",
       "  {'id': '5.450',\n",
       "   'name': 'Кредитование малого и среднего бизнеса',\n",
       "   'profarea_id': '5',\n",
       "   'profarea_name': 'Банки, инвестиции, лизинг'},\n",
       "  {'id': '5.371',\n",
       "   'name': 'Кредиты: розничные',\n",
       "   'profarea_id': '5',\n",
       "   'profarea_name': 'Банки, инвестиции, лизинг'}],\n",
       " 'professional_roles': [],\n",
       " 'code': None,\n",
       " 'hidden': False,\n",
       " 'quick_responses_allowed': False,\n",
       " 'driver_license_types': [],\n",
       " 'accept_incomplete_resumes': False,\n",
       " 'employer': {'id': '3529',\n",
       "  'name': 'Сбербанк',\n",
       "  'url': 'https://api.hh.ru/employers/3529',\n",
       "  'alternate_url': 'https://hh.ru/employer/3529',\n",
       "  'logo_urls': {'original': 'https://hhcdn.ru/employer-logo-original/868362.JPG',\n",
       "   '90': 'https://hhcdn.ru/employer-logo/3914323.jpeg',\n",
       "   '240': 'https://hhcdn.ru/employer-logo/3914324.jpeg'},\n",
       "  'vacancies_url': 'https://api.hh.ru/vacancies?employer_id=3529',\n",
       "  'trusted': True},\n",
       " 'published_at': '2021-03-24T17:46:03+0300',\n",
       " 'created_at': '2021-03-24T17:46:03+0300',\n",
       " 'negotiations_url': None,\n",
       " 'suitable_resumes_url': None,\n",
       " 'apply_alternate_url': 'https://hh.ru/applicant/vacancy_response?vacancyId=43326020',\n",
       " 'has_test': False,\n",
       " 'test': None,\n",
       " 'alternate_url': 'https://hh.ru/vacancy/43326020',\n",
       " 'working_days': [],\n",
       " 'working_time_intervals': [],\n",
       " 'working_time_modes': [],\n",
       " 'accept_temporary': False}"
      ]
     },
     "execution_count": 11,
     "metadata": {},
     "output_type": "execute_result"
    }
   ],
   "source": [
    "# пример\n",
    "vac_id = 43326020\n",
    "url = f'https://api.hh.ru/vacancies/{vac_id}'\n",
    "res = requests.get(url)\n",
    "vacancy = res.json()\n",
    "vacancy"
   ]
  },
  {
   "cell_type": "code",
   "execution_count": null,
   "metadata": {},
   "outputs": [],
   "source": [
    "# Задание вытащить все вакансии СБЕРа с ХХ (у апи есть ограничение в 2000, подумайте как его обойти)\n",
    "# Вытащите все полные описания этих вакансий по запросу с https://api.hh.ru/vacancies/43326020 где 43326020 id вакансии\n",
    "# Создайте аналогичный vacancy DataFrame только добавьте поле skills\n",
    "# Переведите даты публикаций в datetime\n",
    "# Постройте график опубликованных вакансий по датам\n",
    "# Переведите даты в дни недели, и определите день недели, в который больше всего публикуют вакансий\n",
    "# Найдите те вакансии с использованием python, которые вам интересны\n",
    "# Определите по полю skills какие навыки больше всего востребованы для этих вакансий, и\n",
    "# Постройте график наиболее востребованных вакансий"
   ]
  },
  {
   "cell_type": "code",
   "execution_count": 12,
   "metadata": {},
   "outputs": [
    {
     "data": {
      "text/html": [
       "<div>\n",
       "<style scoped>\n",
       "    .dataframe tbody tr th:only-of-type {\n",
       "        vertical-align: middle;\n",
       "    }\n",
       "\n",
       "    .dataframe tbody tr th {\n",
       "        vertical-align: top;\n",
       "    }\n",
       "\n",
       "    .dataframe thead th {\n",
       "        text-align: right;\n",
       "    }\n",
       "</style>\n",
       "<table border=\"1\" class=\"dataframe\">\n",
       "  <thead>\n",
       "    <tr style=\"text-align: right;\">\n",
       "      <th></th>\n",
       "      <th>id</th>\n",
       "      <th>premium</th>\n",
       "      <th>relations</th>\n",
       "      <th>name</th>\n",
       "      <th>insider_interview</th>\n",
       "      <th>response_letter_required</th>\n",
       "      <th>salary</th>\n",
       "      <th>address</th>\n",
       "      <th>allow_messages</th>\n",
       "      <th>contacts</th>\n",
       "      <th>...</th>\n",
       "      <th>department.name</th>\n",
       "      <th>employer.id</th>\n",
       "      <th>employer.name</th>\n",
       "      <th>employer.url</th>\n",
       "      <th>employer.alternate_url</th>\n",
       "      <th>employer.logo_urls.original</th>\n",
       "      <th>employer.logo_urls.90</th>\n",
       "      <th>employer.logo_urls.240</th>\n",
       "      <th>employer.vacancies_url</th>\n",
       "      <th>employer.trusted</th>\n",
       "    </tr>\n",
       "  </thead>\n",
       "  <tbody>\n",
       "    <tr>\n",
       "      <th>0</th>\n",
       "      <td>43326020</td>\n",
       "      <td>False</td>\n",
       "      <td>[]</td>\n",
       "      <td>Специалист по экономической безопасности</td>\n",
       "      <td>None</td>\n",
       "      <td>False</td>\n",
       "      <td>None</td>\n",
       "      <td>None</td>\n",
       "      <td>True</td>\n",
       "      <td>None</td>\n",
       "      <td>...</td>\n",
       "      <td>Сбер для экспертов</td>\n",
       "      <td>3529</td>\n",
       "      <td>Сбербанк</td>\n",
       "      <td>https://api.hh.ru/employers/3529</td>\n",
       "      <td>https://hh.ru/employer/3529</td>\n",
       "      <td>https://hhcdn.ru/employer-logo-original/868362...</td>\n",
       "      <td>https://hhcdn.ru/employer-logo/3914323.jpeg</td>\n",
       "      <td>https://hhcdn.ru/employer-logo/3914324.jpeg</td>\n",
       "      <td>https://api.hh.ru/vacancies?employer_id=3529</td>\n",
       "      <td>True</td>\n",
       "    </tr>\n",
       "  </tbody>\n",
       "</table>\n",
       "<p>1 rows × 63 columns</p>\n",
       "</div>"
      ],
      "text/plain": [
       "         id  premium relations                                      name  \\\n",
       "0  43326020    False        []  Специалист по экономической безопасности   \n",
       "\n",
       "  insider_interview  response_letter_required salary address  allow_messages  \\\n",
       "0              None                     False   None    None            True   \n",
       "\n",
       "  contacts  ...     department.name employer.id employer.name  \\\n",
       "0     None  ...  Сбер для экспертов        3529      Сбербанк   \n",
       "\n",
       "                       employer.url       employer.alternate_url  \\\n",
       "0  https://api.hh.ru/employers/3529  https://hh.ru/employer/3529   \n",
       "\n",
       "                         employer.logo_urls.original  \\\n",
       "0  https://hhcdn.ru/employer-logo-original/868362...   \n",
       "\n",
       "                         employer.logo_urls.90  \\\n",
       "0  https://hhcdn.ru/employer-logo/3914323.jpeg   \n",
       "\n",
       "                        employer.logo_urls.240  \\\n",
       "0  https://hhcdn.ru/employer-logo/3914324.jpeg   \n",
       "\n",
       "                         employer.vacancies_url employer.trusted  \n",
       "0  https://api.hh.ru/vacancies?employer_id=3529             True  \n",
       "\n",
       "[1 rows x 63 columns]"
      ]
     },
     "execution_count": 12,
     "metadata": {},
     "output_type": "execute_result"
    }
   ],
   "source": [
    "# нормализация данных\n",
    "pd.json_normalize(vacancy)"
   ]
  },
  {
   "cell_type": "code",
   "execution_count": 13,
   "metadata": {},
   "outputs": [
    {
     "name": "stderr",
     "output_type": "stream",
     "text": [
      "100%|██████████████████████████████████████████████████████████████████████████████| 2000/2000 [10:40<00:00,  3.12it/s]\n"
     ]
    }
   ],
   "source": [
    "# создаем DataFrame подставляя в url id вакансий из all_vacancy_ids и записывая данные в vac\n",
    "df=pd.DataFrame()\n",
    "url = 'https://api.hh.ru/vacancies/{}'\n",
    "vac = []\n",
    "for i in tqdm(all_vacancy_ids):\n",
    "    df=df.append(pd.json_normalize(requests.get(url.format(i)).json()))"
   ]
  },
  {
   "cell_type": "code",
   "execution_count": 22,
   "metadata": {},
   "outputs": [
    {
     "data": {
      "text/html": [
       "<div>\n",
       "<style scoped>\n",
       "    .dataframe tbody tr th:only-of-type {\n",
       "        vertical-align: middle;\n",
       "    }\n",
       "\n",
       "    .dataframe tbody tr th {\n",
       "        vertical-align: top;\n",
       "    }\n",
       "\n",
       "    .dataframe thead th {\n",
       "        text-align: right;\n",
       "    }\n",
       "</style>\n",
       "<table border=\"1\" class=\"dataframe\">\n",
       "  <thead>\n",
       "    <tr style=\"text-align: right;\">\n",
       "      <th></th>\n",
       "      <th>id</th>\n",
       "      <th>premium</th>\n",
       "      <th>relations</th>\n",
       "      <th>name</th>\n",
       "      <th>insider_interview</th>\n",
       "      <th>response_letter_required</th>\n",
       "      <th>address</th>\n",
       "      <th>allow_messages</th>\n",
       "      <th>contacts</th>\n",
       "      <th>description</th>\n",
       "      <th>...</th>\n",
       "      <th>address.raw</th>\n",
       "      <th>address.metro.station_name</th>\n",
       "      <th>address.metro.line_name</th>\n",
       "      <th>address.metro.station_id</th>\n",
       "      <th>address.metro.line_id</th>\n",
       "      <th>address.metro.lat</th>\n",
       "      <th>address.metro.lng</th>\n",
       "      <th>address.metro_stations</th>\n",
       "      <th>address.metro</th>\n",
       "      <th>immediate_redirect_url</th>\n",
       "    </tr>\n",
       "  </thead>\n",
       "  <tbody>\n",
       "    <tr>\n",
       "      <th>0</th>\n",
       "      <td>44281010</td>\n",
       "      <td>False</td>\n",
       "      <td>[]</td>\n",
       "      <td>Клиентский менеджер</td>\n",
       "      <td>None</td>\n",
       "      <td>False</td>\n",
       "      <td>None</td>\n",
       "      <td>True</td>\n",
       "      <td>None</td>\n",
       "      <td>&lt;p&gt;Клиентский менеджер ― специалист, который п...</td>\n",
       "      <td>...</td>\n",
       "      <td>NaN</td>\n",
       "      <td>NaN</td>\n",
       "      <td>NaN</td>\n",
       "      <td>NaN</td>\n",
       "      <td>NaN</td>\n",
       "      <td>NaN</td>\n",
       "      <td>NaN</td>\n",
       "      <td>NaN</td>\n",
       "      <td>NaN</td>\n",
       "      <td>NaN</td>\n",
       "    </tr>\n",
       "    <tr>\n",
       "      <th>0</th>\n",
       "      <td>46943947</td>\n",
       "      <td>False</td>\n",
       "      <td>[]</td>\n",
       "      <td>Клиентский менеджер прямых продаж</td>\n",
       "      <td>None</td>\n",
       "      <td>False</td>\n",
       "      <td>None</td>\n",
       "      <td>True</td>\n",
       "      <td>None</td>\n",
       "      <td>&lt;p&gt;У каждого нашего зарплатного клиента – комп...</td>\n",
       "      <td>...</td>\n",
       "      <td>NaN</td>\n",
       "      <td>NaN</td>\n",
       "      <td>NaN</td>\n",
       "      <td>NaN</td>\n",
       "      <td>NaN</td>\n",
       "      <td>NaN</td>\n",
       "      <td>NaN</td>\n",
       "      <td>NaN</td>\n",
       "      <td>NaN</td>\n",
       "      <td>NaN</td>\n",
       "    </tr>\n",
       "    <tr>\n",
       "      <th>0</th>\n",
       "      <td>46380141</td>\n",
       "      <td>False</td>\n",
       "      <td>[]</td>\n",
       "      <td>Клиентский менеджер внешней дистрибуции (Прямы...</td>\n",
       "      <td>None</td>\n",
       "      <td>False</td>\n",
       "      <td>None</td>\n",
       "      <td>True</td>\n",
       "      <td>None</td>\n",
       "      <td>&lt;p&gt;Хочешь работать в банке, но офисная рутина ...</td>\n",
       "      <td>...</td>\n",
       "      <td>NaN</td>\n",
       "      <td>NaN</td>\n",
       "      <td>NaN</td>\n",
       "      <td>NaN</td>\n",
       "      <td>NaN</td>\n",
       "      <td>NaN</td>\n",
       "      <td>NaN</td>\n",
       "      <td>NaN</td>\n",
       "      <td>NaN</td>\n",
       "      <td>NaN</td>\n",
       "    </tr>\n",
       "    <tr>\n",
       "      <th>0</th>\n",
       "      <td>44951547</td>\n",
       "      <td>False</td>\n",
       "      <td>[]</td>\n",
       "      <td>Клиентский менеджер</td>\n",
       "      <td>None</td>\n",
       "      <td>False</td>\n",
       "      <td>None</td>\n",
       "      <td>True</td>\n",
       "      <td>None</td>\n",
       "      <td>&lt;p&gt;Клиентский менеджер ― специалист, который п...</td>\n",
       "      <td>...</td>\n",
       "      <td>NaN</td>\n",
       "      <td>NaN</td>\n",
       "      <td>NaN</td>\n",
       "      <td>NaN</td>\n",
       "      <td>NaN</td>\n",
       "      <td>NaN</td>\n",
       "      <td>NaN</td>\n",
       "      <td>NaN</td>\n",
       "      <td>NaN</td>\n",
       "      <td>NaN</td>\n",
       "    </tr>\n",
       "    <tr>\n",
       "      <th>0</th>\n",
       "      <td>48119790</td>\n",
       "      <td>False</td>\n",
       "      <td>[]</td>\n",
       "      <td>Менеджер по подбору новостроек от Домклик</td>\n",
       "      <td>None</td>\n",
       "      <td>False</td>\n",
       "      <td>None</td>\n",
       "      <td>True</td>\n",
       "      <td>None</td>\n",
       "      <td>&lt;p&gt;Мы ищем коллегу, который будет помогать наш...</td>\n",
       "      <td>...</td>\n",
       "      <td>NaN</td>\n",
       "      <td>NaN</td>\n",
       "      <td>NaN</td>\n",
       "      <td>NaN</td>\n",
       "      <td>NaN</td>\n",
       "      <td>NaN</td>\n",
       "      <td>NaN</td>\n",
       "      <td>NaN</td>\n",
       "      <td>NaN</td>\n",
       "      <td>NaN</td>\n",
       "    </tr>\n",
       "  </tbody>\n",
       "</table>\n",
       "<p>5 rows × 83 columns</p>\n",
       "</div>"
      ],
      "text/plain": [
       "         id  premium relations  \\\n",
       "0  44281010    False        []   \n",
       "0  46943947    False        []   \n",
       "0  46380141    False        []   \n",
       "0  44951547    False        []   \n",
       "0  48119790    False        []   \n",
       "\n",
       "                                                name insider_interview  \\\n",
       "0                                Клиентский менеджер              None   \n",
       "0                  Клиентский менеджер прямых продаж              None   \n",
       "0  Клиентский менеджер внешней дистрибуции (Прямы...              None   \n",
       "0                                Клиентский менеджер              None   \n",
       "0          Менеджер по подбору новостроек от Домклик              None   \n",
       "\n",
       "   response_letter_required address  allow_messages contacts  \\\n",
       "0                     False    None            True     None   \n",
       "0                     False    None            True     None   \n",
       "0                     False    None            True     None   \n",
       "0                     False    None            True     None   \n",
       "0                     False    None            True     None   \n",
       "\n",
       "                                         description  ... address.raw  \\\n",
       "0  <p>Клиентский менеджер ― специалист, который п...  ...         NaN   \n",
       "0  <p>У каждого нашего зарплатного клиента – комп...  ...         NaN   \n",
       "0  <p>Хочешь работать в банке, но офисная рутина ...  ...         NaN   \n",
       "0  <p>Клиентский менеджер ― специалист, который п...  ...         NaN   \n",
       "0  <p>Мы ищем коллегу, который будет помогать наш...  ...         NaN   \n",
       "\n",
       "  address.metro.station_name address.metro.line_name  \\\n",
       "0                        NaN                     NaN   \n",
       "0                        NaN                     NaN   \n",
       "0                        NaN                     NaN   \n",
       "0                        NaN                     NaN   \n",
       "0                        NaN                     NaN   \n",
       "\n",
       "   address.metro.station_id  address.metro.line_id  address.metro.lat  \\\n",
       "0                       NaN                    NaN                NaN   \n",
       "0                       NaN                    NaN                NaN   \n",
       "0                       NaN                    NaN                NaN   \n",
       "0                       NaN                    NaN                NaN   \n",
       "0                       NaN                    NaN                NaN   \n",
       "\n",
       "  address.metro.lng address.metro_stations address.metro  \\\n",
       "0               NaN                    NaN           NaN   \n",
       "0               NaN                    NaN           NaN   \n",
       "0               NaN                    NaN           NaN   \n",
       "0               NaN                    NaN           NaN   \n",
       "0               NaN                    NaN           NaN   \n",
       "\n",
       "  immediate_redirect_url  \n",
       "0                    NaN  \n",
       "0                    NaN  \n",
       "0                    NaN  \n",
       "0                    NaN  \n",
       "0                    NaN  \n",
       "\n",
       "[5 rows x 83 columns]"
      ]
     },
     "execution_count": 22,
     "metadata": {},
     "output_type": "execute_result"
    }
   ],
   "source": [
    "df.head()"
   ]
  },
  {
   "cell_type": "code",
   "execution_count": 20,
   "metadata": {},
   "outputs": [],
   "source": [
    "df.to_excel(\"all_vacancy.xlsx\")"
   ]
  },
  {
   "cell_type": "code",
   "execution_count": 34,
   "metadata": {},
   "outputs": [],
   "source": [
    "# только указанные колонки\n",
    "vac_sber = df[['id', 'premium', 'name', 'allow_messages', 'description', 'key_skills', 'specializations', 'published_at', 'created_at', 'billing_type.name', 'salary.from', 'salary.to', 'type.name', 'experience.name', 'schedule.name', 'employment.name', 'department.name']].copy()"
   ]
  },
  {
   "cell_type": "code",
   "execution_count": 35,
   "metadata": {},
   "outputs": [
    {
     "data": {
      "text/html": [
       "<div>\n",
       "<style scoped>\n",
       "    .dataframe tbody tr th:only-of-type {\n",
       "        vertical-align: middle;\n",
       "    }\n",
       "\n",
       "    .dataframe tbody tr th {\n",
       "        vertical-align: top;\n",
       "    }\n",
       "\n",
       "    .dataframe thead th {\n",
       "        text-align: right;\n",
       "    }\n",
       "</style>\n",
       "<table border=\"1\" class=\"dataframe\">\n",
       "  <thead>\n",
       "    <tr style=\"text-align: right;\">\n",
       "      <th></th>\n",
       "      <th>id</th>\n",
       "      <th>premium</th>\n",
       "      <th>name</th>\n",
       "      <th>allow_messages</th>\n",
       "      <th>description</th>\n",
       "      <th>key_skills</th>\n",
       "      <th>specializations</th>\n",
       "      <th>published_at</th>\n",
       "      <th>created_at</th>\n",
       "      <th>billing_type.name</th>\n",
       "      <th>salary.from</th>\n",
       "      <th>salary.to</th>\n",
       "      <th>type.name</th>\n",
       "      <th>experience.name</th>\n",
       "      <th>schedule.name</th>\n",
       "      <th>employment.name</th>\n",
       "      <th>department.name</th>\n",
       "    </tr>\n",
       "  </thead>\n",
       "  <tbody>\n",
       "    <tr>\n",
       "      <th>0</th>\n",
       "      <td>44281010</td>\n",
       "      <td>False</td>\n",
       "      <td>Клиентский менеджер</td>\n",
       "      <td>True</td>\n",
       "      <td>&lt;p&gt;Клиентский менеджер ― специалист, который п...</td>\n",
       "      <td>[{'name': 'Активные продажи'}, {'name': 'Консу...</td>\n",
       "      <td>[{'id': '5.219', 'name': 'Привлечение клиентов...</td>\n",
       "      <td>2021-10-06T14:27:44+0300</td>\n",
       "      <td>2021-10-06T14:27:44+0300</td>\n",
       "      <td>Стандарт</td>\n",
       "      <td>77000</td>\n",
       "      <td>None</td>\n",
       "      <td>Открытая</td>\n",
       "      <td>Нет опыта</td>\n",
       "      <td>Полный день</td>\n",
       "      <td>Полная занятость</td>\n",
       "      <td>Сбер. Начало карьеры</td>\n",
       "    </tr>\n",
       "    <tr>\n",
       "      <th>0</th>\n",
       "      <td>46943947</td>\n",
       "      <td>False</td>\n",
       "      <td>Клиентский менеджер прямых продаж</td>\n",
       "      <td>True</td>\n",
       "      <td>&lt;p&gt;У каждого нашего зарплатного клиента – комп...</td>\n",
       "      <td>[]</td>\n",
       "      <td>[{'id': '5.219', 'name': 'Привлечение клиентов...</td>\n",
       "      <td>2021-10-11T11:10:21+0300</td>\n",
       "      <td>2021-10-11T11:10:21+0300</td>\n",
       "      <td>Стандарт</td>\n",
       "      <td>95000</td>\n",
       "      <td>None</td>\n",
       "      <td>Открытая</td>\n",
       "      <td>Нет опыта</td>\n",
       "      <td>Полный день</td>\n",
       "      <td>Полная занятость</td>\n",
       "      <td>Сбер. Начало карьеры</td>\n",
       "    </tr>\n",
       "    <tr>\n",
       "      <th>0</th>\n",
       "      <td>46380141</td>\n",
       "      <td>False</td>\n",
       "      <td>Клиентский менеджер внешней дистрибуции (Прямы...</td>\n",
       "      <td>True</td>\n",
       "      <td>&lt;p&gt;Хочешь работать в банке, но офисная рутина ...</td>\n",
       "      <td>[{'name': 'Активные продажи'}, {'name': 'Работ...</td>\n",
       "      <td>[{'id': '5.126', 'name': 'Кредиты', 'profarea_...</td>\n",
       "      <td>2021-10-14T14:48:43+0300</td>\n",
       "      <td>2021-10-14T14:48:43+0300</td>\n",
       "      <td>Стандарт</td>\n",
       "      <td>95000</td>\n",
       "      <td>None</td>\n",
       "      <td>Открытая</td>\n",
       "      <td>Нет опыта</td>\n",
       "      <td>Гибкий график</td>\n",
       "      <td>Полная занятость</td>\n",
       "      <td>Сбер. Начало карьеры</td>\n",
       "    </tr>\n",
       "    <tr>\n",
       "      <th>0</th>\n",
       "      <td>44951547</td>\n",
       "      <td>False</td>\n",
       "      <td>Клиентский менеджер</td>\n",
       "      <td>True</td>\n",
       "      <td>&lt;p&gt;Клиентский менеджер ― специалист, который п...</td>\n",
       "      <td>[{'name': 'Активные продажи'}, {'name': 'Прямы...</td>\n",
       "      <td>[{'id': '5.735', 'name': 'Другое', 'profarea_i...</td>\n",
       "      <td>2021-10-06T20:09:35+0300</td>\n",
       "      <td>2021-10-06T20:09:35+0300</td>\n",
       "      <td>Стандарт</td>\n",
       "      <td>77000</td>\n",
       "      <td>None</td>\n",
       "      <td>Открытая</td>\n",
       "      <td>Нет опыта</td>\n",
       "      <td>Полный день</td>\n",
       "      <td>Полная занятость</td>\n",
       "      <td>Сбер. Начало карьеры</td>\n",
       "    </tr>\n",
       "    <tr>\n",
       "      <th>0</th>\n",
       "      <td>48119790</td>\n",
       "      <td>False</td>\n",
       "      <td>Менеджер по подбору новостроек от Домклик</td>\n",
       "      <td>True</td>\n",
       "      <td>&lt;p&gt;Мы ищем коллегу, который будет помогать наш...</td>\n",
       "      <td>[]</td>\n",
       "      <td>[{'id': '5.219', 'name': 'Привлечение клиентов...</td>\n",
       "      <td>2021-10-21T10:21:45+0300</td>\n",
       "      <td>2021-10-21T10:21:45+0300</td>\n",
       "      <td>Стандарт</td>\n",
       "      <td>90000</td>\n",
       "      <td>None</td>\n",
       "      <td>Открытая</td>\n",
       "      <td>От 1 года до 3 лет</td>\n",
       "      <td>Полный день</td>\n",
       "      <td>Полная занятость</td>\n",
       "      <td>Сбер для экспертов</td>\n",
       "    </tr>\n",
       "  </tbody>\n",
       "</table>\n",
       "</div>"
      ],
      "text/plain": [
       "         id  premium                                               name  \\\n",
       "0  44281010    False                                Клиентский менеджер   \n",
       "0  46943947    False                  Клиентский менеджер прямых продаж   \n",
       "0  46380141    False  Клиентский менеджер внешней дистрибуции (Прямы...   \n",
       "0  44951547    False                                Клиентский менеджер   \n",
       "0  48119790    False          Менеджер по подбору новостроек от Домклик   \n",
       "\n",
       "   allow_messages                                        description  \\\n",
       "0            True  <p>Клиентский менеджер ― специалист, который п...   \n",
       "0            True  <p>У каждого нашего зарплатного клиента – комп...   \n",
       "0            True  <p>Хочешь работать в банке, но офисная рутина ...   \n",
       "0            True  <p>Клиентский менеджер ― специалист, который п...   \n",
       "0            True  <p>Мы ищем коллегу, который будет помогать наш...   \n",
       "\n",
       "                                          key_skills  \\\n",
       "0  [{'name': 'Активные продажи'}, {'name': 'Консу...   \n",
       "0                                                 []   \n",
       "0  [{'name': 'Активные продажи'}, {'name': 'Работ...   \n",
       "0  [{'name': 'Активные продажи'}, {'name': 'Прямы...   \n",
       "0                                                 []   \n",
       "\n",
       "                                     specializations  \\\n",
       "0  [{'id': '5.219', 'name': 'Привлечение клиентов...   \n",
       "0  [{'id': '5.219', 'name': 'Привлечение клиентов...   \n",
       "0  [{'id': '5.126', 'name': 'Кредиты', 'profarea_...   \n",
       "0  [{'id': '5.735', 'name': 'Другое', 'profarea_i...   \n",
       "0  [{'id': '5.219', 'name': 'Привлечение клиентов...   \n",
       "\n",
       "               published_at                created_at billing_type.name  \\\n",
       "0  2021-10-06T14:27:44+0300  2021-10-06T14:27:44+0300          Стандарт   \n",
       "0  2021-10-11T11:10:21+0300  2021-10-11T11:10:21+0300          Стандарт   \n",
       "0  2021-10-14T14:48:43+0300  2021-10-14T14:48:43+0300          Стандарт   \n",
       "0  2021-10-06T20:09:35+0300  2021-10-06T20:09:35+0300          Стандарт   \n",
       "0  2021-10-21T10:21:45+0300  2021-10-21T10:21:45+0300          Стандарт   \n",
       "\n",
       "  salary.from salary.to type.name     experience.name  schedule.name  \\\n",
       "0       77000      None  Открытая           Нет опыта    Полный день   \n",
       "0       95000      None  Открытая           Нет опыта    Полный день   \n",
       "0       95000      None  Открытая           Нет опыта  Гибкий график   \n",
       "0       77000      None  Открытая           Нет опыта    Полный день   \n",
       "0       90000      None  Открытая  От 1 года до 3 лет    Полный день   \n",
       "\n",
       "    employment.name       department.name  \n",
       "0  Полная занятость  Сбер. Начало карьеры  \n",
       "0  Полная занятость  Сбер. Начало карьеры  \n",
       "0  Полная занятость  Сбер. Начало карьеры  \n",
       "0  Полная занятость  Сбер. Начало карьеры  \n",
       "0  Полная занятость    Сбер для экспертов  "
      ]
     },
     "execution_count": 35,
     "metadata": {},
     "output_type": "execute_result"
    }
   ],
   "source": [
    "vac_sber.head()"
   ]
  },
  {
   "cell_type": "code",
   "execution_count": 36,
   "metadata": {},
   "outputs": [
    {
     "data": {
      "text/plain": [
       "0    [{'name': 'Активные продажи'}, {'name': 'Консу...\n",
       "0                                                   []\n",
       "0    [{'name': 'Активные продажи'}, {'name': 'Работ...\n",
       "0    [{'name': 'Активные продажи'}, {'name': 'Прямы...\n",
       "0                                                   []\n",
       "                           ...                        \n",
       "0                                                   []\n",
       "0    [{'name': 'Работа в команде'}, {'name': 'Риск-...\n",
       "0    [{'name': 'Python'}, {'name': 'Linux'}, {'name...\n",
       "0                                                   []\n",
       "0    [{'name': 'Прямые продажи'}, {'name': 'Активны...\n",
       "Name: key_skills, Length: 2000, dtype: object"
      ]
     },
     "execution_count": 36,
     "metadata": {},
     "output_type": "execute_result"
    }
   ],
   "source": [
    "# skills\n",
    "df['key_skills']"
   ]
  },
  {
   "cell_type": "code",
   "execution_count": 38,
   "metadata": {},
   "outputs": [],
   "source": [
    "# перевод даты публикации в datetime\n",
    "vac_sber['published_at'] = pd.to_datetime(vac_sber['published_at'])\n",
    "vac_sber['published_at'] = vac_sber['published_at'].dt.strftime('%Y.%m.%d')\n",
    "vac_sber['created_at'] = pd.to_datetime(vac_sber['created_at'])\n",
    "vac_sber['created_at'] = vac_sber['created_at'].dt.strftime('%Y.%m.%d')"
   ]
  },
  {
   "cell_type": "code",
   "execution_count": 39,
   "metadata": {},
   "outputs": [],
   "source": [
    "vacs = vac_sber[['name','published_at']]"
   ]
  },
  {
   "cell_type": "code",
   "execution_count": 40,
   "metadata": {},
   "outputs": [
    {
     "data": {
      "text/html": [
       "<div>\n",
       "<style scoped>\n",
       "    .dataframe tbody tr th:only-of-type {\n",
       "        vertical-align: middle;\n",
       "    }\n",
       "\n",
       "    .dataframe tbody tr th {\n",
       "        vertical-align: top;\n",
       "    }\n",
       "\n",
       "    .dataframe thead th {\n",
       "        text-align: right;\n",
       "    }\n",
       "</style>\n",
       "<table border=\"1\" class=\"dataframe\">\n",
       "  <thead>\n",
       "    <tr style=\"text-align: right;\">\n",
       "      <th></th>\n",
       "      <th>name</th>\n",
       "      <th>published_at</th>\n",
       "    </tr>\n",
       "  </thead>\n",
       "  <tbody>\n",
       "    <tr>\n",
       "      <th>0</th>\n",
       "      <td>Клиентский менеджер</td>\n",
       "      <td>2021.10.06</td>\n",
       "    </tr>\n",
       "    <tr>\n",
       "      <th>0</th>\n",
       "      <td>Клиентский менеджер прямых продаж</td>\n",
       "      <td>2021.10.11</td>\n",
       "    </tr>\n",
       "    <tr>\n",
       "      <th>0</th>\n",
       "      <td>Клиентский менеджер внешней дистрибуции (Прямы...</td>\n",
       "      <td>2021.10.14</td>\n",
       "    </tr>\n",
       "    <tr>\n",
       "      <th>0</th>\n",
       "      <td>Клиентский менеджер</td>\n",
       "      <td>2021.10.06</td>\n",
       "    </tr>\n",
       "    <tr>\n",
       "      <th>0</th>\n",
       "      <td>Менеджер по подбору новостроек от Домклик</td>\n",
       "      <td>2021.10.21</td>\n",
       "    </tr>\n",
       "    <tr>\n",
       "      <th>...</th>\n",
       "      <td>...</td>\n",
       "      <td>...</td>\n",
       "    </tr>\n",
       "    <tr>\n",
       "      <th>0</th>\n",
       "      <td>Senior Data Scientist (моделист) центра внутри...</td>\n",
       "      <td>2021.10.22</td>\n",
       "    </tr>\n",
       "    <tr>\n",
       "      <th>0</th>\n",
       "      <td>Руководитель направления по развитию ПВР (оцен...</td>\n",
       "      <td>2021.10.20</td>\n",
       "    </tr>\n",
       "    <tr>\n",
       "      <th>0</th>\n",
       "      <td>Инженер OpenStack</td>\n",
       "      <td>2021.10.18</td>\n",
       "    </tr>\n",
       "    <tr>\n",
       "      <th>0</th>\n",
       "      <td>QA Инженер тестирования</td>\n",
       "      <td>2021.10.15</td>\n",
       "    </tr>\n",
       "    <tr>\n",
       "      <th>0</th>\n",
       "      <td>Клиентский менеджер прямых продаж</td>\n",
       "      <td>2021.10.27</td>\n",
       "    </tr>\n",
       "  </tbody>\n",
       "</table>\n",
       "<p>2000 rows × 2 columns</p>\n",
       "</div>"
      ],
      "text/plain": [
       "                                                 name published_at\n",
       "0                                 Клиентский менеджер   2021.10.06\n",
       "0                   Клиентский менеджер прямых продаж   2021.10.11\n",
       "0   Клиентский менеджер внешней дистрибуции (Прямы...   2021.10.14\n",
       "0                                 Клиентский менеджер   2021.10.06\n",
       "0           Менеджер по подбору новостроек от Домклик   2021.10.21\n",
       "..                                                ...          ...\n",
       "0   Senior Data Scientist (моделист) центра внутри...   2021.10.22\n",
       "0   Руководитель направления по развитию ПВР (оцен...   2021.10.20\n",
       "0                                   Инженер OpenStack   2021.10.18\n",
       "0                             QA Инженер тестирования   2021.10.15\n",
       "0                   Клиентский менеджер прямых продаж   2021.10.27\n",
       "\n",
       "[2000 rows x 2 columns]"
      ]
     },
     "execution_count": 40,
     "metadata": {},
     "output_type": "execute_result"
    }
   ],
   "source": [
    "vacs"
   ]
  },
  {
   "cell_type": "code",
   "execution_count": 41,
   "metadata": {},
   "outputs": [],
   "source": [
    "# группируем по датам публикаций вакансий с выводом кол-ва и переводим наименование вакансии в индекс\n",
    "bb = vacs.groupby('published_at')['name'].count().reset_index()\n",
    "# сотритуем по убыванию\n",
    "bb = bb.sort_values(by = 'name',ascending = False)"
   ]
  },
  {
   "cell_type": "code",
   "execution_count": 42,
   "metadata": {},
   "outputs": [
    {
     "data": {
      "text/plain": [
       "<AxesSubplot:ylabel='published_at'>"
      ]
     },
     "execution_count": 42,
     "metadata": {},
     "output_type": "execute_result"
    },
    {
     "data": {
      "image/png": "[encoded data removed]",
      "text/plain": [
       "<Figure size 432x288 with 1 Axes>"
      ]
     },
     "metadata": {
      "needs_background": "light"
     },
     "output_type": "display_data"
    }
   ],
   "source": [
    "# график публикаций по всем датам\n",
    "bb.set_index('published_at').plot(kind='barh')"
   ]
  },
  {
   "cell_type": "code",
   "execution_count": 43,
   "metadata": {},
   "outputs": [
    {
     "data": {
      "text/plain": [
       "<AxesSubplot:ylabel='published_at'>"
      ]
     },
     "execution_count": 43,
     "metadata": {},
     "output_type": "execute_result"
    },
    {
     "data": {
      "image/png": "[encoded data removed]",
      "text/plain": [
       "<Figure size 432x288 with 1 Axes>"
      ]
     },
     "metadata": {
      "needs_background": "light"
     },
     "output_type": "display_data"
    }
   ],
   "source": [
    "# график ТОП 5 дат\n",
    "bb.nlargest(5, 'name').set_index('published_at').plot(kind='barh')"
   ]
  },
  {
   "cell_type": "code",
   "execution_count": 44,
   "metadata": {},
   "outputs": [],
   "source": [
    "# создаем новый столбец days_week с днем недели, в который сделана публикация\n",
    "vac_sber['published_at'] = pd.to_datetime(vac_sber['published_at'])\n",
    "vac_sber['days_week'] = vac_sber['published_at'].dt.strftime('%A')"
   ]
  },
  {
   "cell_type": "code",
   "execution_count": 45,
   "metadata": {},
   "outputs": [
    {
     "data": {
      "text/html": [
       "<div>\n",
       "<style scoped>\n",
       "    .dataframe tbody tr th:only-of-type {\n",
       "        vertical-align: middle;\n",
       "    }\n",
       "\n",
       "    .dataframe tbody tr th {\n",
       "        vertical-align: top;\n",
       "    }\n",
       "\n",
       "    .dataframe thead th {\n",
       "        text-align: right;\n",
       "    }\n",
       "</style>\n",
       "<table border=\"1\" class=\"dataframe\">\n",
       "  <thead>\n",
       "    <tr style=\"text-align: right;\">\n",
       "      <th></th>\n",
       "      <th>days_week</th>\n",
       "      <th>name</th>\n",
       "    </tr>\n",
       "  </thead>\n",
       "  <tbody>\n",
       "    <tr>\n",
       "      <th>1</th>\n",
       "      <td>Monday</td>\n",
       "      <td>581</td>\n",
       "    </tr>\n",
       "    <tr>\n",
       "      <th>6</th>\n",
       "      <td>Wednesday</td>\n",
       "      <td>418</td>\n",
       "    </tr>\n",
       "    <tr>\n",
       "      <th>5</th>\n",
       "      <td>Tuesday</td>\n",
       "      <td>357</td>\n",
       "    </tr>\n",
       "    <tr>\n",
       "      <th>0</th>\n",
       "      <td>Friday</td>\n",
       "      <td>317</td>\n",
       "    </tr>\n",
       "    <tr>\n",
       "      <th>4</th>\n",
       "      <td>Thursday</td>\n",
       "      <td>260</td>\n",
       "    </tr>\n",
       "    <tr>\n",
       "      <th>3</th>\n",
       "      <td>Sunday</td>\n",
       "      <td>40</td>\n",
       "    </tr>\n",
       "    <tr>\n",
       "      <th>2</th>\n",
       "      <td>Saturday</td>\n",
       "      <td>27</td>\n",
       "    </tr>\n",
       "  </tbody>\n",
       "</table>\n",
       "</div>"
      ],
      "text/plain": [
       "   days_week  name\n",
       "1     Monday   581\n",
       "6  Wednesday   418\n",
       "5    Tuesday   357\n",
       "0     Friday   317\n",
       "4   Thursday   260\n",
       "3     Sunday    40\n",
       "2   Saturday    27"
      ]
     },
     "execution_count": 45,
     "metadata": {},
     "output_type": "execute_result"
    }
   ],
   "source": [
    "# группируем по дням недели с выводом кол-ва, сортируем по убыванию\n",
    "vac_sber.groupby('days_week')['name'].count().reset_index().sort_values(by = 'name',ascending = False)"
   ]
  },
  {
   "cell_type": "code",
   "execution_count": 46,
   "metadata": {},
   "outputs": [],
   "source": [
    "# интересные вакансии со skills - python\n",
    "interes = vac_sber.set_index('id')\n",
    "interes = interes[interes['key_skills'].isna()==False] # берем не пустные ячейки key_skills"
   ]
  },
  {
   "cell_type": "code",
   "execution_count": 47,
   "metadata": {},
   "outputs": [],
   "source": [
    "vac_python = pd.DataFrame()\n",
    "for i in interes.iloc():\n",
    "    for j in i['key_skills']:\n",
    "        if 'python' in j['name'].lower():\n",
    "            vac_python = vac_python.append(i)"
   ]
  },
  {
   "cell_type": "code",
   "execution_count": 56,
   "metadata": {},
   "outputs": [
    {
     "data": {
      "text/plain": [
       "229"
      ]
     },
     "execution_count": 56,
     "metadata": {},
     "output_type": "execute_result"
    }
   ],
   "source": [
    "# кол-во интересующих вакансий с python\n",
    "len(vac_python)"
   ]
  },
  {
   "cell_type": "code",
   "execution_count": 57,
   "metadata": {},
   "outputs": [],
   "source": [
    "# извлекает требуемые навыки по интересующим вакансиям с python\n",
    "skills = []\n",
    "for i in vac_python.iloc():\n",
    "    for j in i['key_skills']:\n",
    "        skills.append(j['name'])"
   ]
  },
  {
   "cell_type": "code",
   "execution_count": 58,
   "metadata": {},
   "outputs": [],
   "source": [
    "# создаем новые колонки\n",
    "df_skills = pd.DataFrame()\n",
    "df_skills['skill'] = skills\n",
    "df_skills['сol'] = \"\""
   ]
  },
  {
   "cell_type": "code",
   "execution_count": 59,
   "metadata": {},
   "outputs": [],
   "source": [
    "df_skills = df_skills.groupby('skill')['сol'].count().reset_index().sort_values(by = 'сol',ascending = False)"
   ]
  },
  {
   "cell_type": "code",
   "execution_count": 60,
   "metadata": {},
   "outputs": [
    {
     "data": {
      "text/html": [
       "<div>\n",
       "<style scoped>\n",
       "    .dataframe tbody tr th:only-of-type {\n",
       "        vertical-align: middle;\n",
       "    }\n",
       "\n",
       "    .dataframe tbody tr th {\n",
       "        vertical-align: top;\n",
       "    }\n",
       "\n",
       "    .dataframe thead th {\n",
       "        text-align: right;\n",
       "    }\n",
       "</style>\n",
       "<table border=\"1\" class=\"dataframe\">\n",
       "  <thead>\n",
       "    <tr style=\"text-align: right;\">\n",
       "      <th></th>\n",
       "      <th>skill</th>\n",
       "      <th>сol</th>\n",
       "    </tr>\n",
       "  </thead>\n",
       "  <tbody>\n",
       "    <tr>\n",
       "      <th>128</th>\n",
       "      <td>Python</td>\n",
       "      <td>229</td>\n",
       "    </tr>\n",
       "    <tr>\n",
       "      <th>146</th>\n",
       "      <td>SQL</td>\n",
       "      <td>126</td>\n",
       "    </tr>\n",
       "    <tr>\n",
       "      <th>92</th>\n",
       "      <td>Linux</td>\n",
       "      <td>70</td>\n",
       "    </tr>\n",
       "    <tr>\n",
       "      <th>55</th>\n",
       "      <td>Git</td>\n",
       "      <td>61</td>\n",
       "    </tr>\n",
       "    <tr>\n",
       "      <th>118</th>\n",
       "      <td>PostgreSQL</td>\n",
       "      <td>46</td>\n",
       "    </tr>\n",
       "    <tr>\n",
       "      <th>...</th>\n",
       "      <td>...</td>\n",
       "      <td>...</td>\n",
       "    </tr>\n",
       "    <tr>\n",
       "      <th>122</th>\n",
       "      <td>Product Management</td>\n",
       "      <td>1</td>\n",
       "    </tr>\n",
       "    <tr>\n",
       "      <th>123</th>\n",
       "      <td>Prometheus</td>\n",
       "      <td>1</td>\n",
       "    </tr>\n",
       "    <tr>\n",
       "      <th>124</th>\n",
       "      <td>Puppet</td>\n",
       "      <td>1</td>\n",
       "    </tr>\n",
       "    <tr>\n",
       "      <th>125</th>\n",
       "      <td>PyTest</td>\n",
       "      <td>1</td>\n",
       "    </tr>\n",
       "    <tr>\n",
       "      <th>260</th>\n",
       "      <td>робототехника</td>\n",
       "      <td>1</td>\n",
       "    </tr>\n",
       "  </tbody>\n",
       "</table>\n",
       "<p>261 rows × 2 columns</p>\n",
       "</div>"
      ],
      "text/plain": [
       "                  skill  сol\n",
       "128              Python  229\n",
       "146                 SQL  126\n",
       "92                Linux   70\n",
       "55                  Git   61\n",
       "118          PostgreSQL   46\n",
       "..                  ...  ...\n",
       "122  Product Management    1\n",
       "123          Prometheus    1\n",
       "124              Puppet    1\n",
       "125              PyTest    1\n",
       "260       робототехника    1\n",
       "\n",
       "[261 rows x 2 columns]"
      ]
     },
     "execution_count": 60,
     "metadata": {},
     "output_type": "execute_result"
    }
   ],
   "source": [
    "df_skills"
   ]
  },
  {
   "cell_type": "code",
   "execution_count": 61,
   "metadata": {},
   "outputs": [
    {
     "data": {
      "text/plain": [
       "<AxesSubplot:ylabel='skill'>"
      ]
     },
     "execution_count": 61,
     "metadata": {},
     "output_type": "execute_result"
    },
    {
     "data": {
      "image/png": "[encoded data removed]",
      "text/plain": [
       "<Figure size 432x288 with 1 Axes>"
      ]
     },
     "metadata": {
      "needs_background": "light"
     },
     "output_type": "display_data"
    }
   ],
   "source": [
    "# график ТОП 5 навыков в интересующих вакансиях с python\n",
    "df_skills.nlargest(5, 'сol').set_index('skill').plot(kind = 'barh')"
   ]
  }
 ],
 "metadata": {
  "kernelspec": {
   "display_name": "Python 3",
   "language": "python",
   "name": "python3"
  },
  "language_info": {
   "codemirror_mode": {
    "name": "ipython",
    "version": 3
   },
   "file_extension": ".py",
   "mimetype": "text/x-python",
   "name": "python",
   "nbconvert_exporter": "python",
   "pygments_lexer": "ipython3",
   "version": "3.8.5"
  }
 },
 "nbformat": 4,
 "nbformat_minor": 4
}
